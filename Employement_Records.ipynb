{
  "nbformat": 4,
  "nbformat_minor": 0,
  "metadata": {
    "colab": {
      "name": "Untitled0.ipynb",
      "provenance": []
    },
    "kernelspec": {
      "name": "python3",
      "display_name": "Python 3"
    }
  },
  "cells": [
    {
      "cell_type": "markdown",
      "metadata": {
        "id": "G7gqijZJn0nL"
      },
      "source": [
        "#Employment data EDA\r\n",
        "\r\n",
        "---\r\n",
        "\r\n"
      ]
    },
    {
      "cell_type": "code",
      "metadata": {
        "id": "c8eiZF9KA9N7"
      },
      "source": [
        "df = pd.read_excel('train.xlsx')"
      ],
      "execution_count": null,
      "outputs": []
    },
    {
      "cell_type": "code",
      "metadata": {
        "colab": {
          "base_uri": "https://localhost:8080/",
          "height": 400
        },
        "id": "He1jjaGGophi",
        "outputId": "875238fb-8fbc-43c3-ce4e-ad7a389f5a26"
      },
      "source": [
        "df.head()"
      ],
      "execution_count": null,
      "outputs": [
        {
          "output_type": "execute_result",
          "data": {
            "text/html": [
              "<div>\n",
              "<style scoped>\n",
              "    .dataframe tbody tr th:only-of-type {\n",
              "        vertical-align: middle;\n",
              "    }\n",
              "\n",
              "    .dataframe tbody tr th {\n",
              "        vertical-align: top;\n",
              "    }\n",
              "\n",
              "    .dataframe thead th {\n",
              "        text-align: right;\n",
              "    }\n",
              "</style>\n",
              "<table border=\"1\" class=\"dataframe\">\n",
              "  <thead>\n",
              "    <tr style=\"text-align: right;\">\n",
              "      <th></th>\n",
              "      <th>Unnamed: 0</th>\n",
              "      <th>ID</th>\n",
              "      <th>Salary</th>\n",
              "      <th>DOJ</th>\n",
              "      <th>DOL</th>\n",
              "      <th>Designation</th>\n",
              "      <th>JobCity</th>\n",
              "      <th>Gender</th>\n",
              "      <th>DOB</th>\n",
              "      <th>10percentage</th>\n",
              "      <th>10board</th>\n",
              "      <th>12graduation</th>\n",
              "      <th>12percentage</th>\n",
              "      <th>12board</th>\n",
              "      <th>CollegeID</th>\n",
              "      <th>CollegeTier</th>\n",
              "      <th>Degree</th>\n",
              "      <th>Specialization</th>\n",
              "      <th>collegeGPA</th>\n",
              "      <th>CollegeCityID</th>\n",
              "      <th>CollegeCityTier</th>\n",
              "      <th>CollegeState</th>\n",
              "      <th>GraduationYear</th>\n",
              "      <th>English</th>\n",
              "      <th>Logical</th>\n",
              "      <th>Quant</th>\n",
              "      <th>Domain</th>\n",
              "      <th>ComputerProgramming</th>\n",
              "      <th>ElectronicsAndSemicon</th>\n",
              "      <th>ComputerScience</th>\n",
              "      <th>MechanicalEngg</th>\n",
              "      <th>ElectricalEngg</th>\n",
              "      <th>TelecomEngg</th>\n",
              "      <th>CivilEngg</th>\n",
              "      <th>conscientiousness</th>\n",
              "      <th>agreeableness</th>\n",
              "      <th>extraversion</th>\n",
              "      <th>nueroticism</th>\n",
              "      <th>openess_to_experience</th>\n",
              "    </tr>\n",
              "  </thead>\n",
              "  <tbody>\n",
              "    <tr>\n",
              "      <th>0</th>\n",
              "      <td>train</td>\n",
              "      <td>203097</td>\n",
              "      <td>420000</td>\n",
              "      <td>2012-06-01</td>\n",
              "      <td>present</td>\n",
              "      <td>senior quality engineer</td>\n",
              "      <td>Bangalore</td>\n",
              "      <td>f</td>\n",
              "      <td>1990-02-19</td>\n",
              "      <td>84.3</td>\n",
              "      <td>board ofsecondary education,ap</td>\n",
              "      <td>2007</td>\n",
              "      <td>95.8</td>\n",
              "      <td>board of intermediate education,ap</td>\n",
              "      <td>1141</td>\n",
              "      <td>2</td>\n",
              "      <td>B.Tech/B.E.</td>\n",
              "      <td>computer engineering</td>\n",
              "      <td>78.00</td>\n",
              "      <td>1141</td>\n",
              "      <td>0</td>\n",
              "      <td>Andhra Pradesh</td>\n",
              "      <td>2011</td>\n",
              "      <td>515</td>\n",
              "      <td>585</td>\n",
              "      <td>525</td>\n",
              "      <td>0.635979</td>\n",
              "      <td>445</td>\n",
              "      <td>-1</td>\n",
              "      <td>-1</td>\n",
              "      <td>-1</td>\n",
              "      <td>-1</td>\n",
              "      <td>-1</td>\n",
              "      <td>-1</td>\n",
              "      <td>0.9737</td>\n",
              "      <td>0.8128</td>\n",
              "      <td>0.5269</td>\n",
              "      <td>1.35490</td>\n",
              "      <td>-0.4455</td>\n",
              "    </tr>\n",
              "    <tr>\n",
              "      <th>1</th>\n",
              "      <td>train</td>\n",
              "      <td>579905</td>\n",
              "      <td>500000</td>\n",
              "      <td>2013-09-01</td>\n",
              "      <td>present</td>\n",
              "      <td>assistant manager</td>\n",
              "      <td>Indore</td>\n",
              "      <td>m</td>\n",
              "      <td>1989-10-04</td>\n",
              "      <td>85.4</td>\n",
              "      <td>cbse</td>\n",
              "      <td>2007</td>\n",
              "      <td>85.0</td>\n",
              "      <td>cbse</td>\n",
              "      <td>5807</td>\n",
              "      <td>2</td>\n",
              "      <td>B.Tech/B.E.</td>\n",
              "      <td>electronics and communication engineering</td>\n",
              "      <td>70.06</td>\n",
              "      <td>5807</td>\n",
              "      <td>0</td>\n",
              "      <td>Madhya Pradesh</td>\n",
              "      <td>2012</td>\n",
              "      <td>695</td>\n",
              "      <td>610</td>\n",
              "      <td>780</td>\n",
              "      <td>0.960603</td>\n",
              "      <td>-1</td>\n",
              "      <td>466</td>\n",
              "      <td>-1</td>\n",
              "      <td>-1</td>\n",
              "      <td>-1</td>\n",
              "      <td>-1</td>\n",
              "      <td>-1</td>\n",
              "      <td>-0.7335</td>\n",
              "      <td>0.3789</td>\n",
              "      <td>1.2396</td>\n",
              "      <td>-0.10760</td>\n",
              "      <td>0.8637</td>\n",
              "    </tr>\n",
              "    <tr>\n",
              "      <th>2</th>\n",
              "      <td>train</td>\n",
              "      <td>810601</td>\n",
              "      <td>325000</td>\n",
              "      <td>2014-06-01</td>\n",
              "      <td>present</td>\n",
              "      <td>systems engineer</td>\n",
              "      <td>Chennai</td>\n",
              "      <td>f</td>\n",
              "      <td>1992-08-03</td>\n",
              "      <td>85.0</td>\n",
              "      <td>cbse</td>\n",
              "      <td>2010</td>\n",
              "      <td>68.2</td>\n",
              "      <td>cbse</td>\n",
              "      <td>64</td>\n",
              "      <td>2</td>\n",
              "      <td>B.Tech/B.E.</td>\n",
              "      <td>information technology</td>\n",
              "      <td>70.00</td>\n",
              "      <td>64</td>\n",
              "      <td>0</td>\n",
              "      <td>Uttar Pradesh</td>\n",
              "      <td>2014</td>\n",
              "      <td>615</td>\n",
              "      <td>545</td>\n",
              "      <td>370</td>\n",
              "      <td>0.450877</td>\n",
              "      <td>395</td>\n",
              "      <td>-1</td>\n",
              "      <td>-1</td>\n",
              "      <td>-1</td>\n",
              "      <td>-1</td>\n",
              "      <td>-1</td>\n",
              "      <td>-1</td>\n",
              "      <td>0.2718</td>\n",
              "      <td>1.7109</td>\n",
              "      <td>0.1637</td>\n",
              "      <td>-0.86820</td>\n",
              "      <td>0.6721</td>\n",
              "    </tr>\n",
              "    <tr>\n",
              "      <th>3</th>\n",
              "      <td>train</td>\n",
              "      <td>267447</td>\n",
              "      <td>1100000</td>\n",
              "      <td>2011-07-01</td>\n",
              "      <td>present</td>\n",
              "      <td>senior software engineer</td>\n",
              "      <td>Gurgaon</td>\n",
              "      <td>m</td>\n",
              "      <td>1989-12-05</td>\n",
              "      <td>85.6</td>\n",
              "      <td>cbse</td>\n",
              "      <td>2007</td>\n",
              "      <td>83.6</td>\n",
              "      <td>cbse</td>\n",
              "      <td>6920</td>\n",
              "      <td>1</td>\n",
              "      <td>B.Tech/B.E.</td>\n",
              "      <td>computer engineering</td>\n",
              "      <td>74.64</td>\n",
              "      <td>6920</td>\n",
              "      <td>1</td>\n",
              "      <td>Delhi</td>\n",
              "      <td>2011</td>\n",
              "      <td>635</td>\n",
              "      <td>585</td>\n",
              "      <td>625</td>\n",
              "      <td>0.974396</td>\n",
              "      <td>615</td>\n",
              "      <td>-1</td>\n",
              "      <td>-1</td>\n",
              "      <td>-1</td>\n",
              "      <td>-1</td>\n",
              "      <td>-1</td>\n",
              "      <td>-1</td>\n",
              "      <td>0.0464</td>\n",
              "      <td>0.3448</td>\n",
              "      <td>-0.3440</td>\n",
              "      <td>-0.40780</td>\n",
              "      <td>-0.9194</td>\n",
              "    </tr>\n",
              "    <tr>\n",
              "      <th>4</th>\n",
              "      <td>train</td>\n",
              "      <td>343523</td>\n",
              "      <td>200000</td>\n",
              "      <td>2014-03-01</td>\n",
              "      <td>2015-03-01 00:00:00</td>\n",
              "      <td>get</td>\n",
              "      <td>Manesar</td>\n",
              "      <td>m</td>\n",
              "      <td>1991-02-27</td>\n",
              "      <td>78.0</td>\n",
              "      <td>cbse</td>\n",
              "      <td>2008</td>\n",
              "      <td>76.8</td>\n",
              "      <td>cbse</td>\n",
              "      <td>11368</td>\n",
              "      <td>2</td>\n",
              "      <td>B.Tech/B.E.</td>\n",
              "      <td>electronics and communication engineering</td>\n",
              "      <td>73.90</td>\n",
              "      <td>11368</td>\n",
              "      <td>0</td>\n",
              "      <td>Uttar Pradesh</td>\n",
              "      <td>2012</td>\n",
              "      <td>545</td>\n",
              "      <td>625</td>\n",
              "      <td>465</td>\n",
              "      <td>0.124502</td>\n",
              "      <td>-1</td>\n",
              "      <td>233</td>\n",
              "      <td>-1</td>\n",
              "      <td>-1</td>\n",
              "      <td>-1</td>\n",
              "      <td>-1</td>\n",
              "      <td>-1</td>\n",
              "      <td>-0.8810</td>\n",
              "      <td>-0.2793</td>\n",
              "      <td>-1.0697</td>\n",
              "      <td>0.09163</td>\n",
              "      <td>-0.1295</td>\n",
              "    </tr>\n",
              "  </tbody>\n",
              "</table>\n",
              "</div>"
            ],
            "text/plain": [
              "  Unnamed: 0      ID   Salary  ... extraversion nueroticism openess_to_experience\n",
              "0      train  203097   420000  ...       0.5269     1.35490               -0.4455\n",
              "1      train  579905   500000  ...       1.2396    -0.10760                0.8637\n",
              "2      train  810601   325000  ...       0.1637    -0.86820                0.6721\n",
              "3      train  267447  1100000  ...      -0.3440    -0.40780               -0.9194\n",
              "4      train  343523   200000  ...      -1.0697     0.09163               -0.1295\n",
              "\n",
              "[5 rows x 39 columns]"
            ]
          },
          "metadata": {
            "tags": []
          },
          "execution_count": 65
        }
      ]
    },
    {
      "cell_type": "code",
      "metadata": {
        "colab": {
          "base_uri": "https://localhost:8080/"
        },
        "id": "lvC7wOweoq8v",
        "outputId": "019bb605-62c3-43d2-84db-2e75871e77a2"
      },
      "source": [
        "df.shape"
      ],
      "execution_count": null,
      "outputs": [
        {
          "output_type": "execute_result",
          "data": {
            "text/plain": [
              "(3998, 39)"
            ]
          },
          "metadata": {
            "tags": []
          },
          "execution_count": 67
        }
      ]
    },
    {
      "cell_type": "code",
      "metadata": {
        "colab": {
          "base_uri": "https://localhost:8080/"
        },
        "id": "hU2O8mi3pjxa",
        "outputId": "7adce1a2-8634-4d0b-c72c-bf3ad43e1e10"
      },
      "source": [
        "#to check if data has null values\r\n",
        "df.isnull().sum()"
      ],
      "execution_count": null,
      "outputs": [
        {
          "output_type": "execute_result",
          "data": {
            "text/plain": [
              "Unnamed: 0               0\n",
              "ID                       0\n",
              "Salary                   0\n",
              "DOJ                      0\n",
              "DOL                      0\n",
              "Designation              0\n",
              "JobCity                  0\n",
              "Gender                   0\n",
              "DOB                      0\n",
              "10percentage             0\n",
              "10board                  0\n",
              "12graduation             0\n",
              "12percentage             0\n",
              "12board                  0\n",
              "CollegeID                0\n",
              "CollegeTier              0\n",
              "Degree                   0\n",
              "Specialization           0\n",
              "collegeGPA               0\n",
              "CollegeCityID            0\n",
              "CollegeCityTier          0\n",
              "CollegeState             0\n",
              "GraduationYear           0\n",
              "English                  0\n",
              "Logical                  0\n",
              "Quant                    0\n",
              "Domain                   0\n",
              "ComputerProgramming      0\n",
              "ElectronicsAndSemicon    0\n",
              "ComputerScience          0\n",
              "MechanicalEngg           0\n",
              "ElectricalEngg           0\n",
              "TelecomEngg              0\n",
              "CivilEngg                0\n",
              "conscientiousness        0\n",
              "agreeableness            0\n",
              "extraversion             0\n",
              "nueroticism              0\n",
              "openess_to_experience    0\n",
              "dtype: int64"
            ]
          },
          "metadata": {
            "tags": []
          },
          "execution_count": 68
        }
      ]
    },
    {
      "cell_type": "markdown",
      "metadata": {
        "id": "LL7xNIu3qyp6"
      },
      "source": [
        "Data seems to be clean"
      ]
    },
    {
      "cell_type": "markdown",
      "metadata": {
        "id": "K7NFEJkGrNfC"
      },
      "source": [
        "Task: check for gender bias"
      ]
    },
    {
      "cell_type": "code",
      "metadata": {
        "colab": {
          "base_uri": "https://localhost:8080/"
        },
        "id": "2tHINUs_qwmX",
        "outputId": "2ff3fff4-71aa-4dbe-912b-0aee210fa325"
      },
      "source": [
        "df.Gender.unique()"
      ],
      "execution_count": null,
      "outputs": [
        {
          "output_type": "execute_result",
          "data": {
            "text/plain": [
              "array(['f', 'm'], dtype=object)"
            ]
          },
          "metadata": {
            "tags": []
          },
          "execution_count": 69
        }
      ]
    },
    {
      "cell_type": "code",
      "metadata": {
        "colab": {
          "base_uri": "https://localhost:8080/",
          "height": 308
        },
        "id": "8UE-OyoPrSTi",
        "outputId": "5665bc9f-3245-424e-c115-3e32f1f8daba"
      },
      "source": [
        "sns.violinplot(x='Gender', y= 'Salary', data = df)"
      ],
      "execution_count": null,
      "outputs": [
        {
          "output_type": "execute_result",
          "data": {
            "text/plain": [
              "<matplotlib.axes._subplots.AxesSubplot at 0x7f68e2589390>"
            ]
          },
          "metadata": {
            "tags": []
          },
          "execution_count": 72
        },
        {
          "output_type": "display_data",
          "data": {
            "image/png": "[encoded data removed]",
            "text/plain": [
              "<Figure size 432x288 with 1 Axes>"
            ]
          },
          "metadata": {
            "tags": [],
            "needs_background": "light"
          }
        }
      ]
    },
    {
      "cell_type": "markdown",
      "metadata": {
        "id": "McL24nugsLjt"
      },
      "source": [
        "Not that conclusive. Let's look at some numbers for both genders now"
      ]
    },
    {
      "cell_type": "code",
      "metadata": {
        "colab": {
          "base_uri": "https://localhost:8080/",
          "height": 143
        },
        "id": "dmY853GWrcLD",
        "outputId": "e5f9afa8-1b6d-4da2-d5f7-5222011b1813"
      },
      "source": [
        "df[['10percentage','12percentage', 'collegeGPA', 'Gender']].groupby('Gender').mean()"
      ],
      "execution_count": null,
      "outputs": [
        {
          "output_type": "execute_result",
          "data": {
            "text/html": [
              "<div>\n",
              "<style scoped>\n",
              "    .dataframe tbody tr th:only-of-type {\n",
              "        vertical-align: middle;\n",
              "    }\n",
              "\n",
              "    .dataframe tbody tr th {\n",
              "        vertical-align: top;\n",
              "    }\n",
              "\n",
              "    .dataframe thead th {\n",
              "        text-align: right;\n",
              "    }\n",
              "</style>\n",
              "<table border=\"1\" class=\"dataframe\">\n",
              "  <thead>\n",
              "    <tr style=\"text-align: right;\">\n",
              "      <th></th>\n",
              "      <th>10percentage</th>\n",
              "      <th>12percentage</th>\n",
              "      <th>collegeGPA</th>\n",
              "    </tr>\n",
              "    <tr>\n",
              "      <th>Gender</th>\n",
              "      <th></th>\n",
              "      <th></th>\n",
              "      <th></th>\n",
              "    </tr>\n",
              "  </thead>\n",
              "  <tbody>\n",
              "    <tr>\n",
              "      <th>f</th>\n",
              "      <td>80.932894</td>\n",
              "      <td>77.007618</td>\n",
              "      <td>74.048056</td>\n",
              "    </tr>\n",
              "    <tr>\n",
              "      <th>m</th>\n",
              "      <td>76.979000</td>\n",
              "      <td>73.666636</td>\n",
              "      <td>70.679947</td>\n",
              "    </tr>\n",
              "  </tbody>\n",
              "</table>\n",
              "</div>"
            ],
            "text/plain": [
              "        10percentage  12percentage  collegeGPA\n",
              "Gender                                        \n",
              "f          80.932894     77.007618   74.048056\n",
              "m          76.979000     73.666636   70.679947"
            ]
          },
          "metadata": {
            "tags": []
          },
          "execution_count": 74
        }
      ]
    },
    {
      "cell_type": "code",
      "metadata": {
        "colab": {
          "base_uri": "https://localhost:8080/",
          "height": 143
        },
        "id": "l_PYeys7slVX",
        "outputId": "178501d3-36c6-41c8-8feb-b05d7406bab4"
      },
      "source": [
        "df[['10percentage','12percentage', 'collegeGPA', 'Gender']].groupby('Gender').median()"
      ],
      "execution_count": null,
      "outputs": [
        {
          "output_type": "execute_result",
          "data": {
            "text/html": [
              "<div>\n",
              "<style scoped>\n",
              "    .dataframe tbody tr th:only-of-type {\n",
              "        vertical-align: middle;\n",
              "    }\n",
              "\n",
              "    .dataframe tbody tr th {\n",
              "        vertical-align: top;\n",
              "    }\n",
              "\n",
              "    .dataframe thead th {\n",
              "        text-align: right;\n",
              "    }\n",
              "</style>\n",
              "<table border=\"1\" class=\"dataframe\">\n",
              "  <thead>\n",
              "    <tr style=\"text-align: right;\">\n",
              "      <th></th>\n",
              "      <th>10percentage</th>\n",
              "      <th>12percentage</th>\n",
              "      <th>collegeGPA</th>\n",
              "    </tr>\n",
              "    <tr>\n",
              "      <th>Gender</th>\n",
              "      <th></th>\n",
              "      <th></th>\n",
              "      <th></th>\n",
              "    </tr>\n",
              "  </thead>\n",
              "  <tbody>\n",
              "    <tr>\n",
              "      <th>f</th>\n",
              "      <td>82.4</td>\n",
              "      <td>77.0</td>\n",
              "      <td>74.00</td>\n",
              "    </tr>\n",
              "    <tr>\n",
              "      <th>m</th>\n",
              "      <td>78.0</td>\n",
              "      <td>73.4</td>\n",
              "      <td>70.66</td>\n",
              "    </tr>\n",
              "  </tbody>\n",
              "</table>\n",
              "</div>"
            ],
            "text/plain": [
              "        10percentage  12percentage  collegeGPA\n",
              "Gender                                        \n",
              "f               82.4          77.0       74.00\n",
              "m               78.0          73.4       70.66"
            ]
          },
          "metadata": {
            "tags": []
          },
          "execution_count": 75
        }
      ]
    },
    {
      "cell_type": "markdown",
      "metadata": {
        "id": "NaauDH0Psxyt"
      },
      "source": [
        "So females are doing much better in academics"
      ]
    },
    {
      "cell_type": "code",
      "metadata": {
        "colab": {
          "base_uri": "https://localhost:8080/",
          "height": 143
        },
        "id": "4Bs5Gzh1stw6",
        "outputId": "f877dc4d-6fdc-4078-f892-90713ce1541c"
      },
      "source": [
        "df[['conscientiousness', 'agreeableness', 'extraversion', 'nueroticism', 'openess_to_experience', 'Gender']].groupby('Gender').mean()"
      ],
      "execution_count": null,
      "outputs": [
        {
          "output_type": "execute_result",
          "data": {
            "text/html": [
              "<div>\n",
              "<style scoped>\n",
              "    .dataframe tbody tr th:only-of-type {\n",
              "        vertical-align: middle;\n",
              "    }\n",
              "\n",
              "    .dataframe tbody tr th {\n",
              "        vertical-align: top;\n",
              "    }\n",
              "\n",
              "    .dataframe thead th {\n",
              "        text-align: right;\n",
              "    }\n",
              "</style>\n",
              "<table border=\"1\" class=\"dataframe\">\n",
              "  <thead>\n",
              "    <tr style=\"text-align: right;\">\n",
              "      <th></th>\n",
              "      <th>conscientiousness</th>\n",
              "      <th>agreeableness</th>\n",
              "      <th>extraversion</th>\n",
              "      <th>nueroticism</th>\n",
              "      <th>openess_to_experience</th>\n",
              "    </tr>\n",
              "    <tr>\n",
              "      <th>Gender</th>\n",
              "      <th></th>\n",
              "      <th></th>\n",
              "      <th></th>\n",
              "      <th></th>\n",
              "      <th></th>\n",
              "    </tr>\n",
              "  </thead>\n",
              "  <tbody>\n",
              "    <tr>\n",
              "      <th>f</th>\n",
              "      <td>0.121034</td>\n",
              "      <td>0.292444</td>\n",
              "      <td>0.012173</td>\n",
              "      <td>-0.179358</td>\n",
              "      <td>0.038246</td>\n",
              "    </tr>\n",
              "    <tr>\n",
              "      <th>m</th>\n",
              "      <td>-0.087826</td>\n",
              "      <td>0.100566</td>\n",
              "      <td>-0.000198</td>\n",
              "      <td>-0.165783</td>\n",
              "      <td>-0.193609</td>\n",
              "    </tr>\n",
              "  </tbody>\n",
              "</table>\n",
              "</div>"
            ],
            "text/plain": [
              "        conscientiousness  agreeableness  ...  nueroticism  openess_to_experience\n",
              "Gender                                    ...                                    \n",
              "f                0.121034       0.292444  ...    -0.179358               0.038246\n",
              "m               -0.087826       0.100566  ...    -0.165783              -0.193609\n",
              "\n",
              "[2 rows x 5 columns]"
            ]
          },
          "metadata": {
            "tags": []
          },
          "execution_count": 76
        }
      ]
    },
    {
      "cell_type": "code",
      "metadata": {
        "colab": {
          "base_uri": "https://localhost:8080/",
          "height": 143
        },
        "id": "ODZoa5y2taR-",
        "outputId": "0df7b183-c8c7-45c3-94e9-b2dc4909fe1b"
      },
      "source": [
        "df[['conscientiousness', 'agreeableness', 'extraversion', 'nueroticism', 'openess_to_experience', 'Gender']].groupby('Gender').median()"
      ],
      "execution_count": null,
      "outputs": [
        {
          "output_type": "execute_result",
          "data": {
            "text/html": [
              "<div>\n",
              "<style scoped>\n",
              "    .dataframe tbody tr th:only-of-type {\n",
              "        vertical-align: middle;\n",
              "    }\n",
              "\n",
              "    .dataframe tbody tr th {\n",
              "        vertical-align: top;\n",
              "    }\n",
              "\n",
              "    .dataframe thead th {\n",
              "        text-align: right;\n",
              "    }\n",
              "</style>\n",
              "<table border=\"1\" class=\"dataframe\">\n",
              "  <thead>\n",
              "    <tr style=\"text-align: right;\">\n",
              "      <th></th>\n",
              "      <th>conscientiousness</th>\n",
              "      <th>agreeableness</th>\n",
              "      <th>extraversion</th>\n",
              "      <th>nueroticism</th>\n",
              "      <th>openess_to_experience</th>\n",
              "    </tr>\n",
              "    <tr>\n",
              "      <th>Gender</th>\n",
              "      <th></th>\n",
              "      <th></th>\n",
              "      <th></th>\n",
              "      <th></th>\n",
              "      <th></th>\n",
              "    </tr>\n",
              "  </thead>\n",
              "  <tbody>\n",
              "    <tr>\n",
              "      <th>f</th>\n",
              "      <td>0.2718</td>\n",
              "      <td>0.3789</td>\n",
              "      <td>0.0914</td>\n",
              "      <td>-0.23440</td>\n",
              "      <td>0.0973</td>\n",
              "    </tr>\n",
              "    <tr>\n",
              "      <th>m</th>\n",
              "      <td>-0.0154</td>\n",
              "      <td>0.2124</td>\n",
              "      <td>0.0914</td>\n",
              "      <td>-0.17277</td>\n",
              "      <td>-0.0943</td>\n",
              "    </tr>\n",
              "  </tbody>\n",
              "</table>\n",
              "</div>"
            ],
            "text/plain": [
              "        conscientiousness  agreeableness  ...  nueroticism  openess_to_experience\n",
              "Gender                                    ...                                    \n",
              "f                  0.2718         0.3789  ...     -0.23440                 0.0973\n",
              "m                 -0.0154         0.2124  ...     -0.17277                -0.0943\n",
              "\n",
              "[2 rows x 5 columns]"
            ]
          },
          "metadata": {
            "tags": []
          },
          "execution_count": 77
        }
      ]
    },
    {
      "cell_type": "markdown",
      "metadata": {
        "id": "SArzPDBHt4jK"
      },
      "source": [
        "So we get a clear idea that females are doing much better on the Big Five personality traits too. "
      ]
    },
    {
      "cell_type": "code",
      "metadata": {
        "colab": {
          "base_uri": "https://localhost:8080/",
          "height": 143
        },
        "id": "0Hbsv4yGtyE3",
        "outputId": "dc4628ce-b50e-4785-b41a-780c9b5ad9ea"
      },
      "source": [
        "df[['Salary', 'Gender']].groupby('Gender').mean()"
      ],
      "execution_count": null,
      "outputs": [
        {
          "output_type": "execute_result",
          "data": {
            "text/html": [
              "<div>\n",
              "<style scoped>\n",
              "    .dataframe tbody tr th:only-of-type {\n",
              "        vertical-align: middle;\n",
              "    }\n",
              "\n",
              "    .dataframe tbody tr th {\n",
              "        vertical-align: top;\n",
              "    }\n",
              "\n",
              "    .dataframe thead th {\n",
              "        text-align: right;\n",
              "    }\n",
              "</style>\n",
              "<table border=\"1\" class=\"dataframe\">\n",
              "  <thead>\n",
              "    <tr style=\"text-align: right;\">\n",
              "      <th></th>\n",
              "      <th>Salary</th>\n",
              "    </tr>\n",
              "    <tr>\n",
              "      <th>Gender</th>\n",
              "      <th></th>\n",
              "    </tr>\n",
              "  </thead>\n",
              "  <tbody>\n",
              "    <tr>\n",
              "      <th>f</th>\n",
              "      <td>294937.304075</td>\n",
              "    </tr>\n",
              "    <tr>\n",
              "      <th>m</th>\n",
              "      <td>311716.211772</td>\n",
              "    </tr>\n",
              "  </tbody>\n",
              "</table>\n",
              "</div>"
            ],
            "text/plain": [
              "               Salary\n",
              "Gender               \n",
              "f       294937.304075\n",
              "m       311716.211772"
            ]
          },
          "metadata": {
            "tags": []
          },
          "execution_count": 78
        }
      ]
    },
    {
      "cell_type": "markdown",
      "metadata": {
        "id": "qicD0yZfunTY"
      },
      "source": [
        "The salary clearly concludes there is a bias but the analysis will not be completed until we consider other variables"
      ]
    },
    {
      "cell_type": "markdown",
      "metadata": {
        "id": "qZlXW8QTvBYZ"
      },
      "source": [
        "Like it may be the case that for males there exist more number of extreme outliers i.e. the men who earn more are much higher than the average"
      ]
    },
    {
      "cell_type": "markdown",
      "metadata": {
        "id": "bnUEiV8BvVDP"
      },
      "source": [
        "Let us consider the mean and median for higher bracket salary males and females"
      ]
    },
    {
      "cell_type": "code",
      "metadata": {
        "colab": {
          "base_uri": "https://localhost:8080/"
        },
        "id": "jRYG-_Ciuhrp",
        "outputId": "92f6d034-2d53-46ee-a9ad-4f78afe34317"
      },
      "source": [
        "df.Salary.mean()"
      ],
      "execution_count": null,
      "outputs": [
        {
          "output_type": "execute_result",
          "data": {
            "text/plain": [
              "307699.8499249625"
            ]
          },
          "metadata": {
            "tags": []
          },
          "execution_count": 79
        }
      ]
    },
    {
      "cell_type": "code",
      "metadata": {
        "colab": {
          "base_uri": "https://localhost:8080/"
        },
        "id": "IQ_hHGCNvfB_",
        "outputId": "5cea55eb-beeb-4e79-a488-274d2f38ba35"
      },
      "source": [
        "df.Salary.std()"
      ],
      "execution_count": null,
      "outputs": [
        {
          "output_type": "execute_result",
          "data": {
            "text/plain": [
              "212737.4999568574"
            ]
          },
          "metadata": {
            "tags": []
          },
          "execution_count": 80
        }
      ]
    },
    {
      "cell_type": "code",
      "metadata": {
        "id": "4eu_-q3AvkFx"
      },
      "source": [
        "#we define threshold as one standard deviation above the mean\r\n",
        "threshold = df.Salary.mean() + df.Salary.std()"
      ],
      "execution_count": null,
      "outputs": []
    },
    {
      "cell_type": "code",
      "metadata": {
        "id": "MaUJhunZv3zX"
      },
      "source": [
        "#This additional col will tell if a person belongs to higher salary bracket\r\n",
        "df['HighBracket'] = (df.Salary>threshold)"
      ],
      "execution_count": null,
      "outputs": []
    },
    {
      "cell_type": "code",
      "metadata": {
        "colab": {
          "base_uri": "https://localhost:8080/",
          "height": 678
        },
        "id": "2YJJkF5UwJbQ",
        "outputId": "ddf1b5f8-1e37-45f4-dec8-c701a5541b0a"
      },
      "source": [
        "df.sample(10)"
      ],
      "execution_count": null,
      "outputs": [
        {
          "output_type": "execute_result",
          "data": {
            "text/html": [
              "<div>\n",
              "<style scoped>\n",
              "    .dataframe tbody tr th:only-of-type {\n",
              "        vertical-align: middle;\n",
              "    }\n",
              "\n",
              "    .dataframe tbody tr th {\n",
              "        vertical-align: top;\n",
              "    }\n",
              "\n",
              "    .dataframe thead th {\n",
              "        text-align: right;\n",
              "    }\n",
              "</style>\n",
              "<table border=\"1\" class=\"dataframe\">\n",
              "  <thead>\n",
              "    <tr style=\"text-align: right;\">\n",
              "      <th></th>\n",
              "      <th>Unnamed: 0</th>\n",
              "      <th>ID</th>\n",
              "      <th>Salary</th>\n",
              "      <th>DOJ</th>\n",
              "      <th>DOL</th>\n",
              "      <th>Designation</th>\n",
              "      <th>JobCity</th>\n",
              "      <th>Gender</th>\n",
              "      <th>DOB</th>\n",
              "      <th>10percentage</th>\n",
              "      <th>10board</th>\n",
              "      <th>12graduation</th>\n",
              "      <th>12percentage</th>\n",
              "      <th>12board</th>\n",
              "      <th>CollegeID</th>\n",
              "      <th>CollegeTier</th>\n",
              "      <th>Degree</th>\n",
              "      <th>Specialization</th>\n",
              "      <th>collegeGPA</th>\n",
              "      <th>CollegeCityID</th>\n",
              "      <th>CollegeCityTier</th>\n",
              "      <th>CollegeState</th>\n",
              "      <th>GraduationYear</th>\n",
              "      <th>English</th>\n",
              "      <th>Logical</th>\n",
              "      <th>Quant</th>\n",
              "      <th>Domain</th>\n",
              "      <th>ComputerProgramming</th>\n",
              "      <th>ElectronicsAndSemicon</th>\n",
              "      <th>ComputerScience</th>\n",
              "      <th>MechanicalEngg</th>\n",
              "      <th>ElectricalEngg</th>\n",
              "      <th>TelecomEngg</th>\n",
              "      <th>CivilEngg</th>\n",
              "      <th>conscientiousness</th>\n",
              "      <th>agreeableness</th>\n",
              "      <th>extraversion</th>\n",
              "      <th>nueroticism</th>\n",
              "      <th>openess_to_experience</th>\n",
              "      <th>HighBracket</th>\n",
              "    </tr>\n",
              "  </thead>\n",
              "  <tbody>\n",
              "    <tr>\n",
              "      <th>630</th>\n",
              "      <td>train</td>\n",
              "      <td>205705</td>\n",
              "      <td>500000</td>\n",
              "      <td>2011-09-01</td>\n",
              "      <td>present</td>\n",
              "      <td>systems engineer</td>\n",
              "      <td>Kolkata</td>\n",
              "      <td>f</td>\n",
              "      <td>1989-04-26</td>\n",
              "      <td>68.00</td>\n",
              "      <td>0</td>\n",
              "      <td>2007</td>\n",
              "      <td>65.0</td>\n",
              "      <td>0</td>\n",
              "      <td>5508</td>\n",
              "      <td>2</td>\n",
              "      <td>B.Tech/B.E.</td>\n",
              "      <td>information technology</td>\n",
              "      <td>74.00</td>\n",
              "      <td>5508</td>\n",
              "      <td>0</td>\n",
              "      <td>Orissa</td>\n",
              "      <td>2011</td>\n",
              "      <td>535</td>\n",
              "      <td>445</td>\n",
              "      <td>525</td>\n",
              "      <td>0.342315</td>\n",
              "      <td>365</td>\n",
              "      <td>-1</td>\n",
              "      <td>-1</td>\n",
              "      <td>-1</td>\n",
              "      <td>-1</td>\n",
              "      <td>-1</td>\n",
              "      <td>-1</td>\n",
              "      <td>-0.4173</td>\n",
              "      <td>0.3448</td>\n",
              "      <td>0.6720</td>\n",
              "      <td>1.5899</td>\n",
              "      <td>-0.1295</td>\n",
              "      <td>False</td>\n",
              "    </tr>\n",
              "    <tr>\n",
              "      <th>682</th>\n",
              "      <td>train</td>\n",
              "      <td>353167</td>\n",
              "      <td>200000</td>\n",
              "      <td>2014-09-01</td>\n",
              "      <td>present</td>\n",
              "      <td>junior engineer</td>\n",
              "      <td>Bangalore</td>\n",
              "      <td>m</td>\n",
              "      <td>1990-08-01</td>\n",
              "      <td>81.60</td>\n",
              "      <td>kseeb</td>\n",
              "      <td>2008</td>\n",
              "      <td>57.8</td>\n",
              "      <td>karnataka pre university board</td>\n",
              "      <td>1436</td>\n",
              "      <td>2</td>\n",
              "      <td>B.Tech/B.E.</td>\n",
              "      <td>electronics and communication engineering</td>\n",
              "      <td>65.30</td>\n",
              "      <td>1436</td>\n",
              "      <td>0</td>\n",
              "      <td>Karnataka</td>\n",
              "      <td>2012</td>\n",
              "      <td>465</td>\n",
              "      <td>334</td>\n",
              "      <td>485</td>\n",
              "      <td>0.058793</td>\n",
              "      <td>-1</td>\n",
              "      <td>200</td>\n",
              "      <td>-1</td>\n",
              "      <td>-1</td>\n",
              "      <td>-1</td>\n",
              "      <td>-1</td>\n",
              "      <td>-1</td>\n",
              "      <td>-2.2720</td>\n",
              "      <td>-0.5523</td>\n",
              "      <td>-1.9042</td>\n",
              "      <td>1.0024</td>\n",
              "      <td>-0.7615</td>\n",
              "      <td>False</td>\n",
              "    </tr>\n",
              "    <tr>\n",
              "      <th>2443</th>\n",
              "      <td>train</td>\n",
              "      <td>1259589</td>\n",
              "      <td>110000</td>\n",
              "      <td>2014-10-01</td>\n",
              "      <td>2015-04-01 00:00:00</td>\n",
              "      <td>get</td>\n",
              "      <td>kharagpur</td>\n",
              "      <td>m</td>\n",
              "      <td>1993-03-18</td>\n",
              "      <td>80.00</td>\n",
              "      <td>icse</td>\n",
              "      <td>2010</td>\n",
              "      <td>76.0</td>\n",
              "      <td>icse</td>\n",
              "      <td>11210</td>\n",
              "      <td>2</td>\n",
              "      <td>B.Tech/B.E.</td>\n",
              "      <td>mechanical engineering</td>\n",
              "      <td>80.60</td>\n",
              "      <td>11210</td>\n",
              "      <td>0</td>\n",
              "      <td>Chhattisgarh</td>\n",
              "      <td>2014</td>\n",
              "      <td>735</td>\n",
              "      <td>555</td>\n",
              "      <td>535</td>\n",
              "      <td>0.328746</td>\n",
              "      <td>-1</td>\n",
              "      <td>-1</td>\n",
              "      <td>-1</td>\n",
              "      <td>346</td>\n",
              "      <td>-1</td>\n",
              "      <td>-1</td>\n",
              "      <td>-1</td>\n",
              "      <td>-0.4463</td>\n",
              "      <td>-0.9531</td>\n",
              "      <td>0.1637</td>\n",
              "      <td>0.0192</td>\n",
              "      <td>-2.0105</td>\n",
              "      <td>False</td>\n",
              "    </tr>\n",
              "    <tr>\n",
              "      <th>2147</th>\n",
              "      <td>train</td>\n",
              "      <td>795771</td>\n",
              "      <td>310000</td>\n",
              "      <td>2014-06-01</td>\n",
              "      <td>2015-04-01 00:00:00</td>\n",
              "      <td>programmer analyst</td>\n",
              "      <td>-1</td>\n",
              "      <td>m</td>\n",
              "      <td>1991-10-18</td>\n",
              "      <td>93.30</td>\n",
              "      <td>icse</td>\n",
              "      <td>2010</td>\n",
              "      <td>93.5</td>\n",
              "      <td>isc</td>\n",
              "      <td>222</td>\n",
              "      <td>2</td>\n",
              "      <td>B.Tech/B.E.</td>\n",
              "      <td>industrial &amp; production engineering</td>\n",
              "      <td>84.00</td>\n",
              "      <td>222</td>\n",
              "      <td>0</td>\n",
              "      <td>Jharkhand</td>\n",
              "      <td>2015</td>\n",
              "      <td>675</td>\n",
              "      <td>630</td>\n",
              "      <td>590</td>\n",
              "      <td>0.903941</td>\n",
              "      <td>485</td>\n",
              "      <td>-1</td>\n",
              "      <td>-1</td>\n",
              "      <td>500</td>\n",
              "      <td>-1</td>\n",
              "      <td>-1</td>\n",
              "      <td>-1</td>\n",
              "      <td>0.4155</td>\n",
              "      <td>1.3779</td>\n",
              "      <td>0.4711</td>\n",
              "      <td>-0.7415</td>\n",
              "      <td>1.0554</td>\n",
              "      <td>False</td>\n",
              "    </tr>\n",
              "    <tr>\n",
              "      <th>1830</th>\n",
              "      <td>train</td>\n",
              "      <td>1129543</td>\n",
              "      <td>155000</td>\n",
              "      <td>2014-04-01</td>\n",
              "      <td>present</td>\n",
              "      <td>java developer</td>\n",
              "      <td>Kochi/Cochin</td>\n",
              "      <td>m</td>\n",
              "      <td>1990-01-26</td>\n",
              "      <td>64.00</td>\n",
              "      <td>state board</td>\n",
              "      <td>2007</td>\n",
              "      <td>60.0</td>\n",
              "      <td>state board</td>\n",
              "      <td>4866</td>\n",
              "      <td>2</td>\n",
              "      <td>MCA</td>\n",
              "      <td>computer application</td>\n",
              "      <td>77.00</td>\n",
              "      <td>4866</td>\n",
              "      <td>0</td>\n",
              "      <td>Tamil Nadu</td>\n",
              "      <td>2013</td>\n",
              "      <td>385</td>\n",
              "      <td>410</td>\n",
              "      <td>330</td>\n",
              "      <td>0.080055</td>\n",
              "      <td>355</td>\n",
              "      <td>-1</td>\n",
              "      <td>253</td>\n",
              "      <td>-1</td>\n",
              "      <td>-1</td>\n",
              "      <td>-1</td>\n",
              "      <td>-1</td>\n",
              "      <td>-0.8772</td>\n",
              "      <td>-0.1206</td>\n",
              "      <td>1.3933</td>\n",
              "      <td>0.3995</td>\n",
              "      <td>0.2889</td>\n",
              "      <td>False</td>\n",
              "    </tr>\n",
              "    <tr>\n",
              "      <th>3340</th>\n",
              "      <td>train</td>\n",
              "      <td>947534</td>\n",
              "      <td>310000</td>\n",
              "      <td>2014-10-01</td>\n",
              "      <td>2015-05-01 00:00:00</td>\n",
              "      <td>java software engineer</td>\n",
              "      <td>Bangalore</td>\n",
              "      <td>m</td>\n",
              "      <td>1992-11-30</td>\n",
              "      <td>87.52</td>\n",
              "      <td>state board</td>\n",
              "      <td>2010</td>\n",
              "      <td>74.5</td>\n",
              "      <td>state board</td>\n",
              "      <td>314</td>\n",
              "      <td>2</td>\n",
              "      <td>B.Tech/B.E.</td>\n",
              "      <td>computer science &amp; engineering</td>\n",
              "      <td>72.78</td>\n",
              "      <td>314</td>\n",
              "      <td>1</td>\n",
              "      <td>Karnataka</td>\n",
              "      <td>2014</td>\n",
              "      <td>580</td>\n",
              "      <td>475</td>\n",
              "      <td>270</td>\n",
              "      <td>0.744758</td>\n",
              "      <td>475</td>\n",
              "      <td>-1</td>\n",
              "      <td>438</td>\n",
              "      <td>-1</td>\n",
              "      <td>-1</td>\n",
              "      <td>-1</td>\n",
              "      <td>-1</td>\n",
              "      <td>1.4208</td>\n",
              "      <td>0.5454</td>\n",
              "      <td>0.6248</td>\n",
              "      <td>-2.1360</td>\n",
              "      <td>0.4805</td>\n",
              "      <td>False</td>\n",
              "    </tr>\n",
              "    <tr>\n",
              "      <th>2777</th>\n",
              "      <td>train</td>\n",
              "      <td>748099</td>\n",
              "      <td>150000</td>\n",
              "      <td>2014-07-01</td>\n",
              "      <td>2015-03-01 00:00:00</td>\n",
              "      <td>process engineer</td>\n",
              "      <td>Bangalore</td>\n",
              "      <td>m</td>\n",
              "      <td>1991-01-25</td>\n",
              "      <td>80.60</td>\n",
              "      <td>cbse</td>\n",
              "      <td>2009</td>\n",
              "      <td>84.0</td>\n",
              "      <td>cbse</td>\n",
              "      <td>6904</td>\n",
              "      <td>2</td>\n",
              "      <td>B.Tech/B.E.</td>\n",
              "      <td>electronics and electrical engineering</td>\n",
              "      <td>71.00</td>\n",
              "      <td>6904</td>\n",
              "      <td>1</td>\n",
              "      <td>Tamil Nadu</td>\n",
              "      <td>2013</td>\n",
              "      <td>585</td>\n",
              "      <td>610</td>\n",
              "      <td>525</td>\n",
              "      <td>0.684565</td>\n",
              "      <td>335</td>\n",
              "      <td>-1</td>\n",
              "      <td>-1</td>\n",
              "      <td>-1</td>\n",
              "      <td>452</td>\n",
              "      <td>-1</td>\n",
              "      <td>-1</td>\n",
              "      <td>-0.3027</td>\n",
              "      <td>-1.6191</td>\n",
              "      <td>-0.6048</td>\n",
              "      <td>0.0192</td>\n",
              "      <td>-1.6273</td>\n",
              "      <td>False</td>\n",
              "    </tr>\n",
              "    <tr>\n",
              "      <th>2076</th>\n",
              "      <td>train</td>\n",
              "      <td>687992</td>\n",
              "      <td>180000</td>\n",
              "      <td>2013-12-01</td>\n",
              "      <td>2015-01-01 00:00:00</td>\n",
              "      <td>customer support engineer</td>\n",
              "      <td>Bangalore</td>\n",
              "      <td>m</td>\n",
              "      <td>1991-06-15</td>\n",
              "      <td>55.60</td>\n",
              "      <td>state board</td>\n",
              "      <td>2009</td>\n",
              "      <td>56.2</td>\n",
              "      <td>state board</td>\n",
              "      <td>1638</td>\n",
              "      <td>2</td>\n",
              "      <td>B.Tech/B.E.</td>\n",
              "      <td>electronics engineering</td>\n",
              "      <td>65.90</td>\n",
              "      <td>1638</td>\n",
              "      <td>0</td>\n",
              "      <td>Uttar Pradesh</td>\n",
              "      <td>2013</td>\n",
              "      <td>380</td>\n",
              "      <td>520</td>\n",
              "      <td>500</td>\n",
              "      <td>0.824666</td>\n",
              "      <td>-1</td>\n",
              "      <td>400</td>\n",
              "      <td>-1</td>\n",
              "      <td>-1</td>\n",
              "      <td>-1</td>\n",
              "      <td>-1</td>\n",
              "      <td>-1</td>\n",
              "      <td>-1.8825</td>\n",
              "      <td>-3.4506</td>\n",
              "      <td>-2.1418</td>\n",
              "      <td>0.7798</td>\n",
              "      <td>-2.9686</td>\n",
              "      <td>False</td>\n",
              "    </tr>\n",
              "    <tr>\n",
              "      <th>160</th>\n",
              "      <td>train</td>\n",
              "      <td>211700</td>\n",
              "      <td>225000</td>\n",
              "      <td>2011-11-01</td>\n",
              "      <td>2013-04-01 00:00:00</td>\n",
              "      <td>quality analyst</td>\n",
              "      <td>Gurgaon</td>\n",
              "      <td>f</td>\n",
              "      <td>1989-10-08</td>\n",
              "      <td>72.00</td>\n",
              "      <td>cbse</td>\n",
              "      <td>2007</td>\n",
              "      <td>69.0</td>\n",
              "      <td>cbse</td>\n",
              "      <td>378</td>\n",
              "      <td>2</td>\n",
              "      <td>B.Tech/B.E.</td>\n",
              "      <td>computer engineering</td>\n",
              "      <td>72.00</td>\n",
              "      <td>378</td>\n",
              "      <td>0</td>\n",
              "      <td>Haryana</td>\n",
              "      <td>2011</td>\n",
              "      <td>505</td>\n",
              "      <td>345</td>\n",
              "      <td>365</td>\n",
              "      <td>0.342315</td>\n",
              "      <td>365</td>\n",
              "      <td>-1</td>\n",
              "      <td>-1</td>\n",
              "      <td>-1</td>\n",
              "      <td>-1</td>\n",
              "      <td>-1</td>\n",
              "      <td>-1</td>\n",
              "      <td>0.5100</td>\n",
              "      <td>0.1888</td>\n",
              "      <td>0.2366</td>\n",
              "      <td>-0.4078</td>\n",
              "      <td>0.5024</td>\n",
              "      <td>False</td>\n",
              "    </tr>\n",
              "    <tr>\n",
              "      <th>3743</th>\n",
              "      <td>train</td>\n",
              "      <td>63887</td>\n",
              "      <td>395000</td>\n",
              "      <td>2011-11-01</td>\n",
              "      <td>present</td>\n",
              "      <td>senior software engineer</td>\n",
              "      <td>-1</td>\n",
              "      <td>m</td>\n",
              "      <td>1985-05-11</td>\n",
              "      <td>49.90</td>\n",
              "      <td>up board</td>\n",
              "      <td>2002</td>\n",
              "      <td>56.1</td>\n",
              "      <td>up board</td>\n",
              "      <td>893</td>\n",
              "      <td>2</td>\n",
              "      <td>B.Tech/B.E.</td>\n",
              "      <td>computer engineering</td>\n",
              "      <td>66.26</td>\n",
              "      <td>893</td>\n",
              "      <td>0</td>\n",
              "      <td>Uttar Pradesh</td>\n",
              "      <td>2010</td>\n",
              "      <td>495</td>\n",
              "      <td>475</td>\n",
              "      <td>595</td>\n",
              "      <td>0.670743</td>\n",
              "      <td>455</td>\n",
              "      <td>-1</td>\n",
              "      <td>-1</td>\n",
              "      <td>-1</td>\n",
              "      <td>-1</td>\n",
              "      <td>-1</td>\n",
              "      <td>-1</td>\n",
              "      <td>0.8192</td>\n",
              "      <td>1.1248</td>\n",
              "      <td>0.6720</td>\n",
              "      <td>0.0623</td>\n",
              "      <td>1.1343</td>\n",
              "      <td>False</td>\n",
              "    </tr>\n",
              "  </tbody>\n",
              "</table>\n",
              "</div>"
            ],
            "text/plain": [
              "     Unnamed: 0       ID  ...  openess_to_experience HighBracket\n",
              "630       train   205705  ...                -0.1295       False\n",
              "682       train   353167  ...                -0.7615       False\n",
              "2443      train  1259589  ...                -2.0105       False\n",
              "2147      train   795771  ...                 1.0554       False\n",
              "1830      train  1129543  ...                 0.2889       False\n",
              "3340      train   947534  ...                 0.4805       False\n",
              "2777      train   748099  ...                -1.6273       False\n",
              "2076      train   687992  ...                -2.9686       False\n",
              "160       train   211700  ...                 0.5024       False\n",
              "3743      train    63887  ...                 1.1343       False\n",
              "\n",
              "[10 rows x 40 columns]"
            ]
          },
          "metadata": {
            "tags": []
          },
          "execution_count": 83
        }
      ]
    },
    {
      "cell_type": "code",
      "metadata": {
        "colab": {
          "base_uri": "https://localhost:8080/",
          "height": 206
        },
        "id": "Jfpu9MiqwO2Q",
        "outputId": "29da36ab-8164-4007-f02b-fabcd7fc5e0e"
      },
      "source": [
        "df[['Salary','HighBracket', 'Gender']].groupby(['HighBracket','Gender']).mean()"
      ],
      "execution_count": null,
      "outputs": [
        {
          "output_type": "execute_result",
          "data": {
            "text/html": [
              "<div>\n",
              "<style scoped>\n",
              "    .dataframe tbody tr th:only-of-type {\n",
              "        vertical-align: middle;\n",
              "    }\n",
              "\n",
              "    .dataframe tbody tr th {\n",
              "        vertical-align: top;\n",
              "    }\n",
              "\n",
              "    .dataframe thead th {\n",
              "        text-align: right;\n",
              "    }\n",
              "</style>\n",
              "<table border=\"1\" class=\"dataframe\">\n",
              "  <thead>\n",
              "    <tr style=\"text-align: right;\">\n",
              "      <th></th>\n",
              "      <th></th>\n",
              "      <th>Salary</th>\n",
              "    </tr>\n",
              "    <tr>\n",
              "      <th>HighBracket</th>\n",
              "      <th>Gender</th>\n",
              "      <th></th>\n",
              "    </tr>\n",
              "  </thead>\n",
              "  <tbody>\n",
              "    <tr>\n",
              "      <th rowspan=\"2\" valign=\"top\">False</th>\n",
              "      <th>f</th>\n",
              "      <td>271499.454744</td>\n",
              "    </tr>\n",
              "    <tr>\n",
              "      <th>m</th>\n",
              "      <td>272598.433606</td>\n",
              "    </tr>\n",
              "    <tr>\n",
              "      <th rowspan=\"2\" valign=\"top\">True</th>\n",
              "      <th>f</th>\n",
              "      <td>832250.000000</td>\n",
              "    </tr>\n",
              "    <tr>\n",
              "      <th>m</th>\n",
              "      <td>785344.827586</td>\n",
              "    </tr>\n",
              "  </tbody>\n",
              "</table>\n",
              "</div>"
            ],
            "text/plain": [
              "                           Salary\n",
              "HighBracket Gender               \n",
              "False       f       271499.454744\n",
              "            m       272598.433606\n",
              "True        f       832250.000000\n",
              "            m       785344.827586"
            ]
          },
          "metadata": {
            "tags": []
          },
          "execution_count": 85
        }
      ]
    },
    {
      "cell_type": "markdown",
      "metadata": {
        "id": "TVUQOZVRw_7m"
      },
      "source": [
        "We notice that females above the higher income bracket have a mean salary much higher than males"
      ]
    },
    {
      "cell_type": "markdown",
      "metadata": {
        "id": "cmr0ArAUxRJi"
      },
      "source": [
        "The bias then may be due to higher number of male data in the dataset"
      ]
    },
    {
      "cell_type": "code",
      "metadata": {
        "colab": {
          "base_uri": "https://localhost:8080/",
          "height": 206
        },
        "id": "AalI3ubywtvo",
        "outputId": "7103c0b0-cf05-45a5-af2c-fcb8ea4defe4"
      },
      "source": [
        "df[['Salary','HighBracket', 'Gender']].groupby(['HighBracket','Gender']).count()"
      ],
      "execution_count": null,
      "outputs": [
        {
          "output_type": "execute_result",
          "data": {
            "text/html": [
              "<div>\n",
              "<style scoped>\n",
              "    .dataframe tbody tr th:only-of-type {\n",
              "        vertical-align: middle;\n",
              "    }\n",
              "\n",
              "    .dataframe tbody tr th {\n",
              "        vertical-align: top;\n",
              "    }\n",
              "\n",
              "    .dataframe thead th {\n",
              "        text-align: right;\n",
              "    }\n",
              "</style>\n",
              "<table border=\"1\" class=\"dataframe\">\n",
              "  <thead>\n",
              "    <tr style=\"text-align: right;\">\n",
              "      <th></th>\n",
              "      <th></th>\n",
              "      <th>Salary</th>\n",
              "    </tr>\n",
              "    <tr>\n",
              "      <th>HighBracket</th>\n",
              "      <th>Gender</th>\n",
              "      <th></th>\n",
              "    </tr>\n",
              "  </thead>\n",
              "  <tbody>\n",
              "    <tr>\n",
              "      <th rowspan=\"2\" valign=\"top\">False</th>\n",
              "      <th>f</th>\n",
              "      <td>917</td>\n",
              "    </tr>\n",
              "    <tr>\n",
              "      <th>m</th>\n",
              "      <td>2809</td>\n",
              "    </tr>\n",
              "    <tr>\n",
              "      <th rowspan=\"2\" valign=\"top\">True</th>\n",
              "      <th>f</th>\n",
              "      <td>40</td>\n",
              "    </tr>\n",
              "    <tr>\n",
              "      <th>m</th>\n",
              "      <td>232</td>\n",
              "    </tr>\n",
              "  </tbody>\n",
              "</table>\n",
              "</div>"
            ],
            "text/plain": [
              "                    Salary\n",
              "HighBracket Gender        \n",
              "False       f          917\n",
              "            m         2809\n",
              "True        f           40\n",
              "            m          232"
            ]
          },
          "metadata": {
            "tags": []
          },
          "execution_count": 86
        }
      ]
    },
    {
      "cell_type": "markdown",
      "metadata": {
        "id": "J4UWF4W1xr4V"
      },
      "source": [
        "Calculating the percentage of females in both income groups"
      ]
    },
    {
      "cell_type": "code",
      "metadata": {
        "colab": {
          "base_uri": "https://localhost:8080/"
        },
        "id": "7BpInXmTxQFD",
        "outputId": "6fd6e885-276a-4626-8f6f-b9cca547f914"
      },
      "source": [
        "print('Lower bracket female population:', 917/(2809+917)*100)\r\n",
        "print('Higher bracket female population:', 40/(40+232)*100)"
      ],
      "execution_count": null,
      "outputs": [
        {
          "output_type": "stream",
          "text": [
            "Lower bracket female population: 24.610842726784757\n",
            "Higher bracket female population: 14.705882352941178\n"
          ],
          "name": "stdout"
        }
      ]
    },
    {
      "cell_type": "markdown",
      "metadata": {
        "id": "BdHok_L7yHhN"
      },
      "source": [
        "Lower mean salary may be due to the fact here that the number of females rising up the ranks drops significantly"
      ]
    },
    {
      "cell_type": "markdown",
      "metadata": {
        "id": "AECRzBuVyYWT"
      },
      "source": [
        "We may consider other factors like college tier."
      ]
    },
    {
      "cell_type": "code",
      "metadata": {
        "colab": {
          "base_uri": "https://localhost:8080/"
        },
        "id": "ITwFfGK8x8kG",
        "outputId": "d3c875e2-c755-43b6-efc8-d6976e63a64b"
      },
      "source": [
        "df.CollegeTier.unique()"
      ],
      "execution_count": null,
      "outputs": [
        {
          "output_type": "execute_result",
          "data": {
            "text/plain": [
              "array([2, 1])"
            ]
          },
          "metadata": {
            "tags": []
          },
          "execution_count": 89
        }
      ]
    },
    {
      "cell_type": "code",
      "metadata": {
        "colab": {
          "base_uri": "https://localhost:8080/",
          "height": 206
        },
        "id": "URpWS-tSzO4l",
        "outputId": "a8910fdf-7d81-4dd9-c56a-7be21834b90b"
      },
      "source": [
        "df[['CollegeTier', 'HighBracket', 'Salary']].groupby(['HighBracket', 'CollegeTier']).count()"
      ],
      "execution_count": null,
      "outputs": [
        {
          "output_type": "execute_result",
          "data": {
            "text/html": [
              "<div>\n",
              "<style scoped>\n",
              "    .dataframe tbody tr th:only-of-type {\n",
              "        vertical-align: middle;\n",
              "    }\n",
              "\n",
              "    .dataframe tbody tr th {\n",
              "        vertical-align: top;\n",
              "    }\n",
              "\n",
              "    .dataframe thead th {\n",
              "        text-align: right;\n",
              "    }\n",
              "</style>\n",
              "<table border=\"1\" class=\"dataframe\">\n",
              "  <thead>\n",
              "    <tr style=\"text-align: right;\">\n",
              "      <th></th>\n",
              "      <th></th>\n",
              "      <th>Salary</th>\n",
              "    </tr>\n",
              "    <tr>\n",
              "      <th>HighBracket</th>\n",
              "      <th>CollegeTier</th>\n",
              "      <th></th>\n",
              "    </tr>\n",
              "  </thead>\n",
              "  <tbody>\n",
              "    <tr>\n",
              "      <th rowspan=\"2\" valign=\"top\">False</th>\n",
              "      <th>1</th>\n",
              "      <td>234</td>\n",
              "    </tr>\n",
              "    <tr>\n",
              "      <th>2</th>\n",
              "      <td>3492</td>\n",
              "    </tr>\n",
              "    <tr>\n",
              "      <th rowspan=\"2\" valign=\"top\">True</th>\n",
              "      <th>1</th>\n",
              "      <td>63</td>\n",
              "    </tr>\n",
              "    <tr>\n",
              "      <th>2</th>\n",
              "      <td>209</td>\n",
              "    </tr>\n",
              "  </tbody>\n",
              "</table>\n",
              "</div>"
            ],
            "text/plain": [
              "                         Salary\n",
              "HighBracket CollegeTier        \n",
              "False       1               234\n",
              "            2              3492\n",
              "True        1                63\n",
              "            2               209"
            ]
          },
          "metadata": {
            "tags": []
          },
          "execution_count": 94
        }
      ]
    },
    {
      "cell_type": "code",
      "metadata": {
        "colab": {
          "base_uri": "https://localhost:8080/"
        },
        "id": "3h-V4XCHzcSo",
        "outputId": "4d3f51a4-cf19-44d4-d2db-8a3760853d1b"
      },
      "source": [
        "print('Percentage of people in Higher bracket from tier 2 colleges:', 209/(63+209)*100)\r\n",
        "print('Percentage of people in Lower bracket from tier 2 colleges:', 3492/(3492+234)*100)"
      ],
      "execution_count": null,
      "outputs": [
        {
          "output_type": "stream",
          "text": [
            "Percentage of people in Higher bracket from tier 2 colleges: 76.83823529411765\n",
            "Percentage of people in Lower bracket from tier 2 colleges: 93.71980676328504\n"
          ],
          "name": "stdout"
        }
      ]
    },
    {
      "cell_type": "markdown",
      "metadata": {
        "id": "CqQTa9sR2AKk"
      },
      "source": [
        "Lets see how many women go to tier 1 colleges where you have more chance of ending up in a high paying job."
      ]
    },
    {
      "cell_type": "markdown",
      "metadata": {
        "id": "m3S-JHZX2R1I"
      },
      "source": [
        "Note: data here seems to be dominated by tier 2 colleges so the percentage for them is higher"
      ]
    },
    {
      "cell_type": "code",
      "metadata": {
        "colab": {
          "base_uri": "https://localhost:8080/",
          "height": 206
        },
        "id": "o_dvPa-S07Ra",
        "outputId": "e4a5bed3-d2db-43e9-8698-290873a636ea"
      },
      "source": [
        "df[['CollegeTier','Gender','Salary']].groupby(['CollegeTier', 'Gender']).count()"
      ],
      "execution_count": null,
      "outputs": [
        {
          "output_type": "execute_result",
          "data": {
            "text/html": [
              "<div>\n",
              "<style scoped>\n",
              "    .dataframe tbody tr th:only-of-type {\n",
              "        vertical-align: middle;\n",
              "    }\n",
              "\n",
              "    .dataframe tbody tr th {\n",
              "        vertical-align: top;\n",
              "    }\n",
              "\n",
              "    .dataframe thead th {\n",
              "        text-align: right;\n",
              "    }\n",
              "</style>\n",
              "<table border=\"1\" class=\"dataframe\">\n",
              "  <thead>\n",
              "    <tr style=\"text-align: right;\">\n",
              "      <th></th>\n",
              "      <th></th>\n",
              "      <th>Salary</th>\n",
              "    </tr>\n",
              "    <tr>\n",
              "      <th>CollegeTier</th>\n",
              "      <th>Gender</th>\n",
              "      <th></th>\n",
              "    </tr>\n",
              "  </thead>\n",
              "  <tbody>\n",
              "    <tr>\n",
              "      <th rowspan=\"2\" valign=\"top\">1</th>\n",
              "      <th>f</th>\n",
              "      <td>51</td>\n",
              "    </tr>\n",
              "    <tr>\n",
              "      <th>m</th>\n",
              "      <td>246</td>\n",
              "    </tr>\n",
              "    <tr>\n",
              "      <th rowspan=\"2\" valign=\"top\">2</th>\n",
              "      <th>f</th>\n",
              "      <td>906</td>\n",
              "    </tr>\n",
              "    <tr>\n",
              "      <th>m</th>\n",
              "      <td>2795</td>\n",
              "    </tr>\n",
              "  </tbody>\n",
              "</table>\n",
              "</div>"
            ],
            "text/plain": [
              "                    Salary\n",
              "CollegeTier Gender        \n",
              "1           f           51\n",
              "            m          246\n",
              "2           f          906\n",
              "            m         2795"
            ]
          },
          "metadata": {
            "tags": []
          },
          "execution_count": 97
        }
      ]
    },
    {
      "cell_type": "code",
      "metadata": {
        "id": "Rbvv3oDz2gD0"
      },
      "source": [
        ""
      ],
      "execution_count": null,
      "outputs": []
    }
  ]
}